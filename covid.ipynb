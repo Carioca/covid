{
 "cells": [
  {
   "cell_type": "markdown",
   "metadata": {},
   "source": [
    "# Modelos Epidemiológicos COVID-19 Brasil\n",
    "\n",
    "## Introdução\n",
    "Aqui vamos avaliar diferentes modelos epidemiológicos para tentarmos entender os possíveis caminhos que a COVID-19 pode tomar no Brasil. Apesar de alguns sistemas de equações diferenciais usados aqui terem solução analítica, usaremos sempre um resolvedor numérico.\n",
    "\n",
    "## Crescimento exponencial\n",
    "No começo de uma epidemia, é comum vermos crescimento exponencial do número de casos. Por exemplo, aqui está a progressão de casos de COVID-19 no Brasil entre 26/02/2020 e 24/03/2020:\n",
    "\n",
    "| Data | Casos | Data | Casos | Data | Casos | Data | Casos|\n",
    "|-|-:|-|-:|-|-:|-|-:|\n",
    "| 26/02 | 1 | 04/03 | 3  | 11/03 | 52  | 18/03 | 529  |\n",
    "| 27/02 | 1 | 05/03 | 8  | 12/03 | 77  | 19/03 | 647  |\n",
    "| 28/02 | 1 | 06/03 | 13 | 13/03 | 98  | 20/03 | 977  |\n",
    "| 29/02 | 2 | 07/03 | 25 | 14/03 | 98  | 21/03 | 1226 |\n",
    "| 01/03 | 2 | 08/03 | 25 | 15/03 | 98  | 22/03 | 1604 |\n",
    "| 02/03 | 2 | 09/03 | 25 | 16/03 | 234 | 23/03 | 1960 |\n",
    "| 03/03 | 2 | 10/03 | 34 | 17/03 | 349 | 24/03 | 2271 |\n",
    "\n",
    "Usando a variável $I$ (e $I_d$ para o número de infectados num determinado dia) para denotar o número de infectados, nós observamos um crescimento médio de 33.13% ao dia. Podemos modelar esse comportamento de forma _discreta_ (no sentido matemático) estimando que\n",
    "\n",
    "$$I_{d+1} = 1.3313 I_d$$\n",
    "\n",
    "Ou de maneira _contínua_ usando a equação diferencial\n",
    "\n",
    "$$I'(t) = 0.3313I,$$\n",
    "\n",
    "Onde o símbolo $'$ significa a _derivada_ de $I$. Colocando o primeiro modelo num gráfico, temos:"
   ]
  },
  {
   "cell_type": "code",
   "execution_count": 4,
   "metadata": {},
   "outputs": [
    {
     "data": {
      "image/png": "[encoded data removed]",
      "text/plain": [
       "<Figure size 432x288 with 1 Axes>"
      ]
     },
     "metadata": {
      "needs_background": "light"
     },
     "output_type": "display_data"
    }
   ],
   "source": [
    "%matplotlib inline\n",
    "from ipywidgets import interactive, fixed\n",
    "import numpy as np\n",
    "from matplotlib import pyplot as plt\n",
    "\n",
    "dados = [1, 1, 1, 2, 2, 2, 2, 3, 8, 13, 25, 25, 25, \n",
    "         34, 52, 77, 98, 98, 98, 234, 349, 529, 647, 977, 1226, 1604, 1960, 2271]\n",
    "modelo_discreto = [1 * 1.3313**n for n in range(len(dados))]\n",
    "t = np.linspace(0, len(dados), len(dados))\n",
    "exp_plot = plt.plot(t, dados, modelo_discreto)"
   ]
  },
  {
   "cell_type": "markdown",
   "metadata": {},
   "source": [
    "## Modelo SIR\n",
    "O modelo mais usado para modelar epidemias é o SIR. Nele, presume-se que as pessoas podem passar por três estágios: Suscetível, Infeccioso e Resolvido. Por enquanto, esse modelo parece apropriado para essa epidemia, já que a hipótese de uma reinfecção parece remota.\n",
    "\n",
    "<p align=\"center\">\n",
    "  <img src=\"SIR.png\">\n",
    "</p>\n",
    "\n",
    "### Premissas do modelo SIR\n",
    "\n",
    "Vamos usar as letras $S$ para suscetível, $I$ para infeccioso e $R$ para Resolvido e $N$ para a população inicial total, ou seja, a soma $S+I+R$. O modelo presume que cada população começa com um determinado valor e tenta prever a evolução futura delas. Para isso, ele define as taxas de variação de cada uma das funções. O número de suscetíveis que se torna infectado é dado por $\\beta I\\frac{S}{N}$, onde $\\beta$ é quantos novos casos por dia são causados por cada infectado, em média; $S/N$ é a fração de suscetíveis sobre a população total. Já a mudança nas resoluções (curas ou mortes) é dado por $I/\\mu$, onde $\\mu$ é a média de dias até a resolução. Assim, temos:\n",
    "\n",
    "$$\n",
    "\\begin{align}\n",
    "  S'(t) & = -\\beta I\\frac{S}{N}\\\\\n",
    "  I'(t) & = \\beta I\\frac{S}{N} - \\frac{I}{\\mu}\\\\\n",
    "  R'(t) & = \\frac{I}{\\mu}\n",
    "\\end{align}\n",
    "$$\n",
    "\n",
    "Uma medida que foi bastante falada na mídia desde o início dessa pandemia é o _número básico de reprodução_, normalmente denotado por $R_0$ (sem relação com o $R$ acima). Nesse modelo, o número é dado por $\\beta\\mu$, ou seja, o número médio de novas infecções a cada dia por infectado, multiplicado pelo número médio de dias de infecção."
   ]
  },
  {
   "cell_type": "code",
   "execution_count": 2,
   "metadata": {},
   "outputs": [
    {
     "data": {
      "application/vnd.jupyter.widget-view+json": {
       "model_id": "7d0b0dfbfa8d4d9a9fc5de7506debfbe",
       "version_major": 2,
       "version_minor": 0
      },
      "text/plain": [
       "interactive(children=(FloatSlider(value=0.16, description='beta', max=0.5, step=0.01), IntSlider(value=14, des…"
      ]
     },
     "metadata": {},
     "output_type": "display_data"
    }
   ],
   "source": [
    "from sir import solve_sir\n",
    "w=interactive(solve_sir, S_i=fixed(210_000_000), I_i=fixed(2200), R_i=fixed(100), \n",
    "              beta=(0.0, 0.5, 0.01), mu=(1,30), N=fixed(10))\n",
    "w"
   ]
  },
  {
   "cell_type": "code",
   "execution_count": 3,
   "metadata": {},
   "outputs": [
    {
     "name": "stdout",
     "output_type": "stream",
     "text": [
      "Máximo de casos graves simultâneos: 2,032,212\n",
      "Mortes estimadas indepedente de UTI: 1,788,239\n",
      "Pessoas ainda suscetíveis ao final: 31,176,777\n"
     ]
    }
   ],
   "source": [
    "result = w.result[1]\n",
    "demanda_uti = int(max(result[:,1])*.05)\n",
    "print(f'Máximo de casos graves simultâneos: {demanda_uti:,}')\n",
    "resolvidos = result[-1][-1]\n",
    "mortes_estimadas = int(resolvidos * .01)\n",
    "print(f'Mortes estimadas indepedente de UTI: {mortes_estimadas:,}')\n",
    "print(f'Pessoas ainda suscetíveis ao final: {int(result[-1][0]):,}')"
   ]
  },
  {
   "cell_type": "markdown",
   "metadata": {},
   "source": [
    "## Simulações"
   ]
  }
 ],
 "metadata": {
  "kernelspec": {
   "display_name": "Python 3",
   "language": "python",
   "name": "python3"
  },
  "language_info": {
   "codemirror_mode": {
    "name": "ipython",
    "version": 3
   },
   "file_extension": ".py",
   "mimetype": "text/x-python",
   "name": "python",
   "nbconvert_exporter": "python",
   "pygments_lexer": "ipython3",
   "version": "3.8.2"
  }
 },
 "nbformat": 4,
 "nbformat_minor": 4
}
