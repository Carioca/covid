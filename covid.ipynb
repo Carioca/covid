{
 "cells": [
  {
   "cell_type": "markdown",
   "metadata": {},
   "source": [
    "# Modelos Epidemiológicos COVID-19\n",
    "\n",
    "## Introdução\n",
    "Aqui vamos avaliar diferentes modelos epidemiológicos para tentarmos entender os possíveis caminhos que a COVID-19 pode tomar no Brasil. Apesar de alguns sistemas de equações diferenciais usados aqui terem solução analítica, usaremos sempre um resolvedor numérico.\n",
    "\n",
    "## Crescimento exponencial\n",
    "No começo de uma epidemia, é comum vermos crescimento exponencial do número de casos. Por exemplo, aqui está a progressão de casos de COVID-19 no Brasil entre 26/02/2020 e 24/03/2020:\n",
    "\n",
    "| Data | Casos | Data | Casos | Data | Casos | Data | Casos|\n",
    "|-|-:|-|-:|-|-:|-|-:|\n",
    "| 26/02 | 1 | 04/03 | 3  | 11/03 | 52  | 18/03 | 529  |\n",
    "| 27/02 | 1 | 05/03 | 8  | 12/03 | 77  | 19/03 | 647  |\n",
    "| 28/02 | 1 | 06/03 | 13 | 13/03 | 98  | 20/03 | 977  |\n",
    "| 29/02 | 2 | 07/03 | 25 | 14/03 | 98  | 21/03 | 1226 |\n",
    "| 01/03 | 2 | 08/03 | 25 | 15/03 | 98  | 22/03 | 1604 |\n",
    "| 02/03 | 2 | 09/03 | 25 | 16/03 | 234 | 23/03 | 1960 |\n",
    "| 03/03 | 2 | 10/03 | 34 | 17/03 | 349 | 24/03 | 2271 |\n",
    "\n",
    "Usando a variável $I$ (e $I_d$ para o número de infectados num determinado dia) para denotar o número de infectados, podemos ver que o crescimento médio é de algo entre 30% e 40% ao dia. Podemos modelar esse comportamento de forma _discreta_ (no sentido matemático) estimando que\n",
    "\n",
    "$$I_{d+1} = (1+\\beta) I_d$$,\n",
    "\n",
    "onde $\\beta$ é a taxa de crescimento, que descobriremos usando aproximações numéricas. Podemos também modelar esse crescimento de maneira _contínua_ usando a equação diferencial\n",
    "\n",
    "$$I'(t) = \\beta I,$$\n",
    "\n",
    "Onde o símbolo $'$ significa a _derivada_ de $I$. Nesse caso, os dois modelos têm a mesma solução analítica:\n",
    "\n",
    "$$I(t) = \\alpha(1+\\beta)^t$$\n",
    "\n",
    "No gráfico abaixo, podemos ver a comparação entre esse modelo e os dez dias seguintes ao país chegar a 100 casos:"
   ]
  },
  {
   "cell_type": "code",
   "execution_count": 9,
   "metadata": {},
   "outputs": [
    {
     "data": {
      "application/vnd.jupyter.widget-view+json": {
       "model_id": "82286896700d4857ab7c2475376d2c78",
       "version_major": 2,
       "version_minor": 0
      },
      "text/plain": [
       "interactive(children=(FloatSlider(value=104.17536525832206, description='α', max=312.52609577496617, min=-104.…"
      ]
     },
     "metadata": {},
     "output_type": "display_data"
    }
   ],
   "source": [
    "from ipywidgets import interactive, fixed\n",
    "import numpy as np\n",
    "from scipy.optimize import curve_fit\n",
    "from matplotlib import pyplot as plt\n",
    "%matplotlib inline\n",
    "plt.rcParams['figure.figsize'] = [16, 9]\n",
    "\n",
    "dados = [98, 98, 98, 234, 349, 529, 647, 977, 1226, 1604]\n",
    "taxa_media = (dados[-1]/dados[0])**(1/(len(dados)-1))\n",
    "\n",
    "t = np.linspace(0, len(dados)-1, len(dados))\n",
    "α, b = curve_fit(lambda x, a, b: a*np.exp(b*t),  t,  dados,  p0=(1, 0))[0]\n",
    "\n",
    "def plt_exp(α=α, β=np.exp(b)-1):\n",
    "    modelo = [α*(1+β)**x for x in t]\n",
    "\n",
    "    fig,ax = plt.subplots()\n",
    "    dados_plot = ax.plot(t, dados, label='Dados')\n",
    "    modelo_plot = ax.plot(t, modelo, label=f'Modelo, β={β:.3}, α={α:.4}')\n",
    "    ax.set_xlabel('Dias desde a centésima infecção')\n",
    "    ax.set_ylabel('Número de infectados')\n",
    "    ax.set_title('Dados vs Modelo')\n",
    "    l = ax.legend()\n",
    "e = interactive(plt_exp, α=(α/2 , 3*α/2, 1), β=(0, 1, .01))\n",
    "\n",
    "e"
   ]
  },
  {
   "cell_type": "markdown",
   "metadata": {},
   "source": [
    "# Modelo SI\n",
    "\n",
    "O problema mais gritante com um modelo exponencial é que uma epidemia obviamente não pode crescer indefinidamente, já que o número de pessoas suscetíveis é limitado (no caso do COVID-19 parece ser a população mundial). #TODO"
   ]
  },
  {
   "cell_type": "markdown",
   "metadata": {},
   "source": [
    "## Modelo SIR\n",
    "O modelo mais usado para modelar epidemias é o SIR. Nele, presume-se que as pessoas podem passar por três estágios: Suscetível, Infeccioso e Resolvido. Por enquanto, esse modelo parece apropriado para essa epidemia, já que a hipótese de uma reinfecção parece remota.\n",
    "\n",
    "<p align=\"center\">\n",
    "  <img src=\"SIR.png\">\n",
    "</p>\n",
    "\n",
    "### Premissas do modelo SIR\n",
    "\n",
    "Vamos usar as letras $S$ para suscetível, $I$ para infeccioso e $R$ para Resolvido e $N$ para a população inicial total, ou seja, a soma $S+I+R$. O modelo presume que cada população começa com um determinado valor e tenta prever a evolução futura delas. Para isso, ele define as taxas de variação de cada uma das funções. O número de suscetíveis que se torna infectado é dado por $\\beta I\\frac{S}{N}$, onde $\\beta$ é quantos novos casos por dia são causados por cada infectado, em média; $S/N$ é a fração de suscetíveis sobre a população total. Já a mudança nas resoluções (curas ou mortes) é dado por $I/\\mu$, onde $\\mu$ é a média de dias até a resolução. Assim, temos:\n",
    "\n",
    "$$\n",
    "\\begin{align}\n",
    "  S'(t) & = -\\beta I\\frac{S}{N}\\\\\n",
    "  I'(t) & = \\beta I\\frac{S}{N} - \\frac{I}{\\mu}\\\\\n",
    "  R'(t) & = \\frac{I}{\\mu}\n",
    "\\end{align}\n",
    "$$\n",
    "\n",
    "Uma medida que foi bastante falada na mídia desde o início dessa pandemia é o _número básico de reprodução_, normalmente denotado por $R_0$ (sem relação com o $R$ acima). Nesse modelo, o número é dado por $\\beta\\mu$, ou seja, o número médio de novas infecções a cada dia por infectado, multiplicado pelo número médio de dias de infecção."
   ]
  },
  {
   "cell_type": "code",
   "execution_count": 3,
   "metadata": {},
   "outputs": [
    {
     "data": {
      "application/vnd.jupyter.widget-view+json": {
       "model_id": "9ff6e1df7d5346dc8a7b0bf77f119298",
       "version_major": 2,
       "version_minor": 0
      },
      "text/plain": [
       "interactive(children=(FloatSlider(value=0.16, description='beta', max=0.5, step=0.01), IntSlider(value=14, des…"
      ]
     },
     "metadata": {},
     "output_type": "display_data"
    }
   ],
   "source": [
    "from scipy import integrate\n",
    "\n",
    "def solve_sir(S_i=210_000_000., I_i=2200., R_i=100., beta=0.16, mu=14, dias=365, N=24):\n",
    "    \"\"\"Plot a solution to the SIR differential equations.\"\"\"\n",
    "    \n",
    "    def sir_deriv(s_i_r, t0, beta=beta, mu=mu):\n",
    "        \"\"\"Compute the time-derivative of a Lorenz system.\"\"\"\n",
    "        s, i, r = s_i_r\n",
    "        n = s + i + r\n",
    "        return [\n",
    "            -beta * i * s/n, \n",
    "            beta * i * s/n - i/mu, \n",
    "            i/mu\n",
    "        ]\n",
    "    \n",
    "    t = np.linspace(0,dias,int(N*dias))\n",
    "    s_i_r_t = integrate.odeint(sir_deriv, (S_i, I_i, R_i), t)\n",
    "    plt.plot(t, s_i_r_t)\n",
    "    plt.show()\n",
    "    print(\"R_0 = \"+str(beta*mu))\n",
    "    return t, s_i_r_t\n",
    "\n",
    "w=interactive(solve_sir, S_i=fixed(210_000_000), I_i=fixed(2200), R_i=fixed(100), \n",
    "              beta=(0.0, 0.5, 0.01), mu=(1,30), N=fixed(10))\n",
    "w"
   ]
  },
  {
   "cell_type": "code",
   "execution_count": 4,
   "metadata": {},
   "outputs": [
    {
     "name": "stdout",
     "output_type": "stream",
     "text": [
      "Máximo de casos graves simultâneos: 2,032,212\n",
      "Mortes estimadas indepedente de UTI: 1,788,239\n",
      "Pessoas ainda suscetíveis ao final: 31,176,777\n"
     ]
    }
   ],
   "source": [
    "result = w.result[1]\n",
    "demanda_uti = int(max(result[:,1])*.05)\n",
    "print(f'Máximo de casos graves simultâneos: {demanda_uti:,}')\n",
    "resolvidos = result[-1][-1]\n",
    "mortes_estimadas = int(resolvidos * .01)\n",
    "print(f'Mortes estimadas indepedente de UTI: {mortes_estimadas:,}')\n",
    "print(f'Pessoas ainda suscetíveis ao final: {int(result[-1][0]):,}')"
   ]
  },
  {
   "cell_type": "markdown",
   "metadata": {},
   "source": [
    "## Simulações"
   ]
  }
 ],
 "metadata": {
  "kernelspec": {
   "display_name": "Python 3",
   "language": "python",
   "name": "python3"
  },
  "language_info": {
   "codemirror_mode": {
    "name": "ipython",
    "version": 3
   },
   "file_extension": ".py",
   "mimetype": "text/x-python",
   "name": "python",
   "nbconvert_exporter": "python",
   "pygments_lexer": "ipython3",
   "version": "3.8.2"
  }
 },
 "nbformat": 4,
 "nbformat_minor": 4
}
