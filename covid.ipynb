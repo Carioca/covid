{
 "cells": [
  {
   "cell_type": "markdown",
   "metadata": {},
   "source": [
    "# Modelos Epidemiológicos COVID-19\n",
    "\n",
    "## Introdução\n",
    "Aqui vamos avaliar diferentes modelos epidemiológicos para tentarmos entender os possíveis caminhos que a COVID-19 pode tomar no Brasil. Apesar de alguns sistemas de equações diferenciais usados aqui terem solução analítica, usaremos sempre um resolvedor numérico.\n",
    "\n",
    "## Crescimento exponencial\n",
    "No começo de uma epidemia, é comum vermos crescimento exponencial do número de casos. Por exemplo, aqui está a progressão de casos de COVID-19 no Brasil entre 26/02/2020 e 28/03/2020:\n",
    "\n",
    "| Data | Casos | Data | Casos | Data | Casos |\n",
    "|-|-:|-|-:|-|-:|\n",
    "| 02/26/20 | 1 | 02/27/20 | 1 | 02/28/20 | 1 |\n",
    "| 02/29/20 | 1 | 03/01/20 | 2 | 03/02/20 | 2 |\n",
    "| 03/05/20 | 3 | 03/06/20 | 8 | 03/07/20 | 13 |\n",
    "| 03/08/20 | 13 | 03/09/20 | 25 | 03/11/20 | 34 |\n",
    "| 03/12/20 | 52 | 03/13/20 | 77 | 03/14/20 | 98 |\n",
    "| 03/15/20 | 121 | 03/16/20 | 200 | 03/17/20 | 234 |\n",
    "| 03/18/20 | 291 | 03/19/20 | 428 | 03/20/20 | 621 |\n",
    "| 03/21/20 | 904 | 03/22/20 | 1128 | 03/23/20 | 1546 |\n",
    "| 03/24/20 | 1891 | 03/25/20 | 2201 | 03/26/20 | 2433 |\n",
    "| 03/27/20 | 2915 | 03/28/20 | 3417 \n",
    "<caption>Fonte: https://ourworldindata.org/coronavirus</caption>\n",
    "\n",
    "Usando a variável $I$ (e $I_d$ para o número de infectados num determinado dia) para denotar o número de infectados, podemos ver que o crescimento médio é de algo entre 30% e 40% ao dia. Podemos modelar esse comportamento de forma _discreta_ (no sentido matemático) estimando que\n",
    "\n",
    "$$I_{d+1} = (1+\\beta) I_d$$,\n",
    "\n",
    "onde $\\beta$ é a taxa de crescimento, que descobriremos usando aproximações numéricas. Podemos também modelar esse crescimento de maneira _contínua_ usando a equação diferencial\n",
    "\n",
    "$$I'(t) = \\beta I,$$\n",
    "\n",
    "Onde o símbolo $'$ significa a _derivada_ de $I$. Nesse caso, os dois modelos têm a mesma solução analítica:\n",
    "\n",
    "$$I(t) = \\alpha(1+\\beta)^t$$\n",
    "\n",
    "No gráfico abaixo, podemos ver a comparação entre esse modelo e os dez dias seguintes ao país chegar a 100 casos, já usando a função `curve_fit` para encontrar os valores de $\\alpha$ e $\\beta$ que melhor aproximam a curva dos dados:"
   ]
  },
  {
   "cell_type": "code",
   "execution_count": 11,
   "metadata": {},
   "outputs": [
    {
     "data": {
      "application/vnd.jupyter.widget-view+json": {
       "model_id": "7250495b794c420ca549a1084ca1b900",
       "version_major": 2,
       "version_minor": 0
      },
      "text/plain": [
       "interactive(children=(FloatSlider(value=301859.44018798595, description='α', max=452789.1602819789, min=150929…"
      ]
     },
     "metadata": {},
     "output_type": "display_data"
    }
   ],
   "source": [
    "from ipywidgets import interactive, fixed\n",
    "import numpy as np\n",
    "from scipy.optimize import curve_fit\n",
    "from matplotlib import pyplot as plt\n",
    "%matplotlib inline\n",
    "plt.rcParams['figure.figsize'] = [16, 9]\n",
    "\n",
    "dados = [121, 200, 234, 291, 428, 621, 904, 1128, 1546, 1891, 2201]\n",
    "\n",
    "t = np.linspace(0, len(dados)-1, len(dados))\n",
    "α, b = curve_fit(lambda x, a, b: a*np.exp(b*t),  t,  dados,  p0=(1, 0))[0]\n",
    "\n",
    "def plt_exp(α=α, β=np.exp(b)-1):\n",
    "    modelo = [α*(1+β)**x for x in t]\n",
    "\n",
    "    fig,ax = plt.subplots()\n",
    "    dados_plot = ax.plot(t, dados, label='Dados')\n",
    "    modelo_plot = ax.plot(t, modelo, label=f'Modelo, β={β:.3}, α={α:.4}')\n",
    "    ax.set_xlabel('Dias desde a centésima infecção')\n",
    "    ax.set_ylabel('Número de infectados')\n",
    "    ax.set_title('Dados vs Modelo')\n",
    "    l = ax.legend()\n",
    "e = interactive(plt_exp, α=(α/2 , 3*α/2, 1), β=(.2, .5, .01))\n",
    "e"
   ]
  },
  {
   "cell_type": "markdown",
   "metadata": {},
   "source": [
    "# Modelo SI\n",
    "\n",
    "O problema mais gritante com um modelo exponencial é que uma epidemia obviamente não pode crescer indefinidamente, já que o número de pessoas suscetíveis é limitado. Não só isso, conforme mais pessoas são infectadas, o número de novas infecções diminuirá, já que não acontece uma nova infecção numa interação entre duas pessoas já infectadas.\n",
    "\n",
    "<p align=\"center\">\n",
    "  <img src=\"si.png\">\n",
    "</p>\n",
    "\n",
    "Assim, temos que a taxa de novas infecções é dada por $\\beta$, multiplicado pela fração de pessoas ainda suscetíveis, $S/N$, onde $N$ é o total da população:\n",
    "$$\n",
    "\\begin{align}\n",
    "  S'(t) & = -\\beta I\\frac{S}{N}\\\\\n",
    "  I'(t) & = \\beta I\\frac{S}{N}\\\\\n",
    "\\end{align}\n",
    "$$"
   ]
  },
  {
   "cell_type": "code",
   "execution_count": 2,
   "metadata": {
    "jupyter": {
     "source_hidden": true
    }
   },
   "outputs": [
    {
     "data": {
      "application/vnd.jupyter.widget-view+json": {
       "model_id": "9d1ba246b4344983b72f779a64db1a68",
       "version_major": 2,
       "version_minor": 0
      },
      "text/plain": [
       "interactive(children=(FloatSlider(value=0.16, description='β', max=0.5, step=0.01), IntSlider(value=180, descr…"
      ]
     },
     "metadata": {},
     "output_type": "display_data"
    }
   ],
   "source": [
    "from scipy import integrate\n",
    "\n",
    "def solve_sir(S_i=210_000_000., I_i=2200., β=0.16, dias=180, N=24):\n",
    "    \"\"\"Plot a solution to the SI differential equations.\"\"\"\n",
    "    \n",
    "    def sir_deriv(s_i, t0, β=β):\n",
    "        \"\"\"Compute the time-derivative of a SI system.\"\"\"\n",
    "        s, i = s_i\n",
    "        n = s + i\n",
    "        return [\n",
    "            -β * i * s/n, \n",
    "            β * i * s/n, \n",
    "        ]\n",
    "    \n",
    "    t = np.linspace(0,dias,int(N*dias))\n",
    "    s_i_t = integrate.odeint(sir_deriv, (S_i, I_i), t)\n",
    "    fig,ax = plt.subplots()\n",
    "    ax.stackplot(t, s_i_t[:,1], s_i_t[:,0],\n",
    "                 labels=('Infecciosos', 'Suscetíveis'))\n",
    "    ax.set_xlabel('Dias')\n",
    "    ax.set_ylabel('Pessoas')\n",
    "    ax.set_title(f'Modelo SI')\n",
    "    l = ax.legend()\n",
    "    return t, s_i_t\n",
    "w=interactive(solve_sir, S_i=fixed(210_000_000), I_i=fixed(2200), β=(0.0, 0.5, 0.01), N=fixed(10))\n",
    "w"
   ]
  },
  {
   "cell_type": "markdown",
   "metadata": {},
   "source": [
    "## Modelo SIR\n",
    "O modelo mais usado para modelar epidemias é o SIR. Nele, presume-se que as pessoas podem passar por três estágios: Suscetível, Infeccioso e Resolvido. Por enquanto, esse modelo parece apropriado para essa epidemia, já que a hipótese de uma reinfecção parece remota.\n",
    "\n",
    "<p align=\"center\">\n",
    "  <img src=\"sir.png\">\n",
    "</p>\n",
    "\n",
    "### Premissas do modelo SIR\n",
    "\n",
    "Vamos usar as letras $S$ para suscetível, $I$ para infeccioso e $R$ para Resolvido e $N$ para a população inicial total, ou seja, a soma $S+I+R$. O modelo presume que cada população começa com um determinado valor e tenta prever a evolução futura delas. Para isso, ele define as taxas de variação de cada uma das funções. O número de suscetíveis que se torna infectado é dado por $\\beta I\\frac{S}{N}$, onde $\\beta$ é quantos novos casos por dia são causados por cada infectado, em média; $S/N$ é a fração de suscetíveis sobre a população total. Já a mudança nas resoluções (curas ou mortes) é dado por $I/\\mu$, onde $\\mu$ é a média de dias até a resolução. Assim, temos:\n",
    "\n",
    "$$\n",
    "\\begin{align}\n",
    "  S'(t) & = -\\beta I\\frac{S}{N}\\\\\n",
    "  I'(t) & = \\beta I\\frac{S}{N} - \\frac{I}{\\mu}\\\\\n",
    "  R'(t) & = \\frac{I}{\\mu}\n",
    "\\end{align}\n",
    "$$\n",
    "\n",
    "Uma medida que foi bastante falada na mídia desde o início dessa pandemia é o _número básico de reprodução_, normalmente denotado por $R_0$ (sem relação com o $R$ acima). Nesse modelo, o número é dado por $\\beta\\mu$, ou seja, o número médio de novas infecções a cada dia por infectado, multiplicado pelo número médio de dias de infecção."
   ]
  },
  {
   "cell_type": "code",
   "execution_count": 3,
   "metadata": {
    "jupyter": {
     "source_hidden": true
    }
   },
   "outputs": [
    {
     "data": {
      "application/vnd.jupyter.widget-view+json": {
       "model_id": "b740ca7607f046ce9bfbc911d16dd984",
       "version_major": 2,
       "version_minor": 0
      },
      "text/plain": [
       "interactive(children=(FloatSlider(value=0.16, description='β', max=0.5, step=0.01), IntSlider(value=14, descri…"
      ]
     },
     "metadata": {},
     "output_type": "display_data"
    }
   ],
   "source": [
    "def solve_sir(S_i=210_000_000., I_i=2200., R_i=100., β=0.16, μ=14, dias=365, N=24):\n",
    "    \"\"\"Plot a solution to the SIR differential equations.\"\"\"\n",
    "    \n",
    "    def sir_deriv(s_i_r, t0, β=β, μ=μ):\n",
    "        \"\"\"Compute the time-derivative of a SIR system.\"\"\"\n",
    "        s, i, r = s_i_r\n",
    "        n = s + i + r\n",
    "        return [\n",
    "            -β * i * s/n, \n",
    "            β * i * s/n - i/μ, \n",
    "            i/μ\n",
    "        ]\n",
    "    \n",
    "    t = np.linspace(0,dias,int(N*dias))\n",
    "    s_i_r_t = integrate.odeint(sir_deriv, (S_i, I_i, R_i), t)\n",
    "    fig,ax = plt.subplots()\n",
    "    ax.stackplot(t, s_i_r_t[:,1], s_i_r_t[:,0], s_i_r_t[:,2],\n",
    "                 labels=('Infecciosos', 'Suscetíveis', 'Resolvidos'))\n",
    "    ax.set_xlabel('Dias')\n",
    "    ax.set_ylabel('Pessoas')\n",
    "    ax.set_title(f'Modelo SIR, R₀={β*μ:.3}')\n",
    "    l = ax.legend()\n",
    "    demanda_uti = int(max(s_i_r_t[:,1])*.01)\n",
    "    print(f'Máximo de casos graves simultâneos: {demanda_uti:,}')\n",
    "    resolvidos = s_i_r_t[-1][-1]\n",
    "    mortes_estimadas = int(resolvidos * .005)\n",
    "    print(f'Mortes estimadas indepedente de UTI: {mortes_estimadas:,}')\n",
    "    print(f'Pessoas ainda suscetíveis ao final: {int(s_i_r_t[-1][0]):,}')\n",
    "    return t, s_i_r_t\n",
    "\n",
    "w=interactive(solve_sir, S_i=fixed(210_000_000), I_i=fixed(2200), R_i=fixed(100), \n",
    "              β=(0.0, 0.5, 0.01), mu=(1,30), N=fixed(10))\n",
    "w"
   ]
  },
  {
   "cell_type": "markdown",
   "metadata": {},
   "source": [
    "## Simulações\n",
    "\n",
    "#TODO enquanto isso, assista esse vídeo aqui: https://www.youtube.com/watch?v=gxAaO2rsdIs"
   ]
  }
 ],
 "metadata": {
  "kernelspec": {
   "display_name": "Python 3",
   "language": "python",
   "name": "python3"
  },
  "language_info": {
   "codemirror_mode": {
    "name": "ipython",
    "version": 3
   },
   "file_extension": ".py",
   "mimetype": "text/x-python",
   "name": "python",
   "nbconvert_exporter": "python",
   "pygments_lexer": "ipython3",
   "version": "3.8.2"
  }
 },
 "nbformat": 4,
 "nbformat_minor": 4
}
