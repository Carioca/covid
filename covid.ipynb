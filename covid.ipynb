{
 "cells": [
  {
   "cell_type": "markdown",
   "metadata": {},
   "source": [
    "# Modelos Epidemiológicos COVID-19 Brasil\n",
    "\n",
    "## Introdução\n",
    "Aqui vamos avaliar diferentes modelos epidemiológicos para tentarmos entender os possíveis caminhos que a COVID-19 pode tomar no Brasil. Apesar de alguns sistemas de equações diferenciais usados aqui terem solução analítica, usaremos sempre um resolvedor numérico.\n",
    "\n",
    "\n",
    "## Modelo SIR\n",
    "O modelo mais usado para modelar epidemias é o SIR. Nele, presume-se que as pessoas podem passar por três estágios: Suscetível, Infeccioso e Resolvido. Por enquanto, esse modelo parece apropriado para essa epidemia, já que a hipótese de uma reinfecção parece remota.\n",
    "\n",
    "<p align=\"center\">\n",
    "  <img src=\"SIR.png\">\n",
    "</p>\n",
    "\n",
    "### Premissas do modelo SIR\n",
    "\n",
    "Vamos usar as letras $S$ para suscetível, $I$ para infeccioso e $R$ para Resolvido e $N$ para a população inicial total, ou seja, a soma $S+I+R$. O modelo presume que cada população começa com um determinado valor e tenta prever a evolução futura delas. Para isso, ele define as taxas de variação de cada uma das funções. O número de suscetíveis que se torna infectado é dado por $\\beta I\\frac{S}{N}$, onde $\\beta$ é quantos novos casos por dia são causados por cada infectado, em média; $S/N$ é a fração de suscetíveis sobre a população total. Já a mudança nas resoluções (curas ou mortes) é dado por $I/\\mu$, onde $\\mu$ é a média de dias até a resolução. Assim, temos:\n",
    "\n",
    "$$\n",
    "\\begin{align}\n",
    "  S'(t) & = -\\beta I\\frac{S}{N}\\\\\n",
    "  I'(t) & = \\beta I\\frac{S}{N} - \\frac{I}{\\mu}\\\\\n",
    "  R'(t) & = \\frac{I}{\\mu}\n",
    "\\end{align}\n",
    "$$\n",
    "\n",
    "Uma medida que foi bastante falada na mídia desde o início dessa pandemia é o _número básico de reprodução_, normalmente denotado por $R_0$ (sem relação com o $R$ acima). Nesse modelo, o número é dado por $\\beta\\mu$, ou seja, o número médio de novas infecções a cada dia por infectado, multiplicado pelo número médio de dias de infecção."
   ]
  },
  {
   "cell_type": "code",
   "execution_count": 1,
   "metadata": {},
   "outputs": [
    {
     "data": {
      "application/vnd.jupyter.widget-view+json": {
       "model_id": "8483e127eef1492788764d394a5f8eb3",
       "version_major": 2,
       "version_minor": 0
      },
      "text/plain": [
       "interactive(children=(FloatSlider(value=2200.0, description='I_i', max=6600.0, min=-2200.0), FloatSlider(value…"
      ]
     },
     "metadata": {},
     "output_type": "display_data"
    }
   ],
   "source": [
    "%matplotlib inline\n",
    "from ipywidgets import interactive, fixed\n",
    "from sir import solve_sir\n",
    "w=interactive(solve_sir, S_i=fixed(210_000_000), beta=(0.0, 1.0, 0.01), mu=(1,30), N=(1,100))\n",
    "w"
   ]
  },
  {
   "cell_type": "code",
   "execution_count": 3,
   "metadata": {},
   "outputs": [
    {
     "name": "stdout",
     "output_type": "stream",
     "text": [
      "Máximo de casos graves simultâneos: 1,007,613\n",
      "Mortes estimadas indepedente de UTI: 1,430,824\n",
      "Pessoas ainda suscetíveis ao final: 66,850,684\n"
     ]
    }
   ],
   "source": [
    "result = w.result[1]\n",
    "demanda_uti = int(max(result[:,1])*.05)\n",
    "print(f'Máximo de casos graves simultâneos: {demanda_uti:,}')\n",
    "resolvidos = result[-1][-1]\n",
    "mortes_estimadas = int(resolvidos * .01)\n",
    "print(f'Mortes estimadas indepedente de UTI: {mortes_estimadas:,}')\n",
    "print(f'Pessoas ainda suscetíveis ao final: {int(result[-1][0]):,}')"
   ]
  },
  {
   "cell_type": "markdown",
   "metadata": {},
   "source": [
    "## Simulações"
   ]
  }
 ],
 "metadata": {
  "kernelspec": {
   "display_name": "Python 3",
   "language": "python",
   "name": "python3"
  },
  "language_info": {
   "codemirror_mode": {
    "name": "ipython",
    "version": 3
   },
   "file_extension": ".py",
   "mimetype": "text/x-python",
   "name": "python",
   "nbconvert_exporter": "python",
   "pygments_lexer": "ipython3",
   "version": "3.8.2"
  }
 },
 "nbformat": 4,
 "nbformat_minor": 4
}
