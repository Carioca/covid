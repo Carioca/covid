{
 "cells": [
  {
   "cell_type": "markdown",
   "metadata": {},
   "source": [
    "# Modelos Epidemiológicos COVID-19\n",
    "\n",
    "## Introdução\n",
    "Aqui vamos avaliar diferentes modelos epidemiológicos para tentarmos entender os possíveis caminhos que a COVID-19 pode tomar no Brasil. Apesar de alguns sistemas de equações diferenciais usados aqui terem solução analítica, usaremos sempre um resolvedor numérico.\n",
    "\n",
    "## Crescimento exponencial\n",
    "No começo de uma epidemia, é comum vermos crescimento exponencial do número de casos. Por exemplo, aqui está a progressão de casos de COVID-19 no Brasil entre 26/02/2020 e 29/03/2020:"
   ]
  },
  {
   "cell_type": "markdown",
   "metadata": {},
   "source": [
    "| Data | Casos |\n",
    "|-|-:|\n",
    "| 26/02/2020 | 1 |\n",
    "| 27/02/2020 | 1 |\n",
    "| 28/02/2020 | 1 |\n",
    "| 29/02/2020 | 1 |\n",
    "| 01/03/2020 | 2 |\n",
    "| 02/03/2020 | 2 |\n",
    "| 05/03/2020 | 3 |\n",
    "| 06/03/2020 | 8 |\n",
    "| 07/03/2020 | 13 |\n",
    "| 08/03/2020 | 13 |\n",
    "| 09/03/2020 | 25 |\n",
    "| 11/03/2020 | 34 |\n",
    "| 12/03/2020 | 52 |\n",
    "| 13/03/2020 | 77 |\n",
    "| 14/03/2020 | 98 |\n",
    "| 15/03/2020 | 121 |\n",
    "| 16/03/2020 | 200 |\n",
    "| 17/03/2020 | 234 |\n",
    "| 18/03/2020 | 291 |\n",
    "| 19/03/2020 | 428 |\n",
    "| 20/03/2020 | 621 |\n",
    "| 21/03/2020 | 904 |\n",
    "| 22/03/2020 | 1128 |\n",
    "| 23/03/2020 | 1546 |\n",
    "| 24/03/2020 | 1891 |\n",
    "| 25/03/2020 | 2201 |\n",
    "| 26/03/2020 | 2433 |\n",
    "| 27/03/2020 | 2915 |\n",
    "| 28/03/2020 | 3417 |\n",
    "| 29/03/2020 | 3904 |\n",
    "<caption>Fonte: https://ourworldindata.org/coronavirus</caption>"
   ]
  },
  {
   "cell_type": "markdown",
   "metadata": {},
   "source": [
    "Usando a variável $I$ (e $I_d$ para o número de infectados num determinado dia) para denotar o número de infectados, podemos ver que o crescimento médio é de algo entre 30% e 40% ao dia. Podemos modelar esse comportamento de forma _discreta_ (no sentido matemático) estimando que\n",
    "\n",
    "$$I_{d+1} = (1+\\beta) I_d$$,\n",
    "\n",
    "onde $\\beta$ é a taxa de crescimento, que descobriremos usando aproximações numéricas. Podemos também modelar esse crescimento de maneira _contínua_ usando a equação diferencial\n",
    "\n",
    "$$I'(t) = \\beta I,$$\n",
    "\n",
    "Onde o símbolo $'$ significa a _derivada_ de $I$. Nesse caso, os dois modelos têm a mesma solução analítica:\n",
    "\n",
    "$$I(t) = \\alpha(1+\\beta)^t$$\n",
    "\n",
    "No gráfico abaixo, podemos ver a comparação entre esse modelo e os dez dias seguintes ao país chegar a 100 casos, já usando a função `curve_fit` para encontrar os valores de $\\alpha$ e $\\beta$ que melhor aproximam a curva dos dados:"
   ]
  },
  {
   "cell_type": "code",
   "execution_count": 1,
   "metadata": {},
   "outputs": [
    {
     "data": {
      "application/vnd.jupyter.widget-view+json": {
       "model_id": "20abf6d246d54643907a48fb389759fc",
       "version_major": 2,
       "version_minor": 0
      },
      "text/plain": [
       "interactive(children=(FloatSlider(value=180.16417149106198, description='α', max=270.24625723659295, min=90.08…"
      ]
     },
     "metadata": {},
     "output_type": "display_data"
    }
   ],
   "source": [
    "from ipywidgets import interactive, fixed\n",
    "import numpy as np\n",
    "from scipy.optimize import curve_fit\n",
    "from matplotlib import pyplot as plt\n",
    "%matplotlib inline\n",
    "plt.rcParams['figure.figsize'] = [16, 9]\n",
    "\n",
    "dados = [121, 200, 234, 291, 428, 621, 904, 1128, 1546, 1891, 2201]\n",
    "\n",
    "t = np.linspace(0, len(dados)-1, len(dados))\n",
    "α, b = curve_fit(lambda x, a, b: a*np.exp(b*t),  t,  dados,  p0=(1, 0))[0]\n",
    "\n",
    "def plt_exp(α=α, β=np.exp(b)-1):\n",
    "    modelo = [α*(1+β)**x for x in t]\n",
    "\n",
    "    fig,ax = plt.subplots()\n",
    "    dados_plot = ax.plot(t, dados, label='Dados')\n",
    "    modelo_plot = ax.plot(t, modelo, label=f'Modelo, β={β:.3}, α={α:.4}')\n",
    "    ax.set_xlabel('Dias desde a centésima infecção')\n",
    "    ax.set_ylabel('Número de infectados')\n",
    "    ax.set_title('Dados vs Modelo')\n",
    "    l = ax.legend()\n",
    "e = interactive(plt_exp, α=(α/2 , 3*α/2, 1), β=(.2, .5, .01))\n",
    "e"
   ]
  },
  {
   "cell_type": "markdown",
   "metadata": {},
   "source": [
    "# Modelo SI\n",
    "\n",
    "O problema mais gritante com um modelo exponencial é que uma epidemia obviamente não pode crescer indefinidamente, já que o número de pessoas suscetíveis é limitado. Não só isso, conforme mais pessoas são infectadas, o número de novas infecções diminuirá, já que não acontece uma nova infecção numa interação entre duas pessoas já infectadas.\n",
    "\n",
    "<p align=\"center\">\n",
    "  <img src=\"si.png\">\n",
    "</p>\n",
    "\n",
    "Assim, temos que a taxa de novas infecções é dada por $\\beta$, multiplicado pela fração de pessoas ainda suscetíveis, $S/N$, onde $N$ é o total da população:\n",
    "$$\n",
    "\\begin{align}\n",
    "  S'(t) & = -\\beta I\\frac{S}{N}\\\\\n",
    "  I'(t) & = \\beta I\\frac{S}{N}\\\\\n",
    "\\end{align}\n",
    "$$"
   ]
  },
  {
   "cell_type": "code",
   "execution_count": 2,
   "metadata": {},
   "outputs": [
    {
     "data": {
      "application/vnd.jupyter.widget-view+json": {
       "model_id": "530c1554c77b478792a9ea29696885e5",
       "version_major": 2,
       "version_minor": 0
      },
      "text/plain": [
       "interactive(children=(FloatSlider(value=0.16, description='β', max=0.5, step=0.01), IntSlider(value=180, descr…"
      ]
     },
     "metadata": {},
     "output_type": "display_data"
    }
   ],
   "source": [
    "from scipy import integrate\n",
    "\n",
    "def solve_sir(S_i=210_000_000., I_i=2200., β=0.16, dias=180, N=24):\n",
    "    \"\"\"Plot a solution to the SI differential equations.\"\"\"\n",
    "    \n",
    "    def sir_deriv(s_i, t0, β=β):\n",
    "        \"\"\"Compute the time-derivative of a SI system.\"\"\"\n",
    "        s, i = s_i\n",
    "        n = s + i\n",
    "        return [\n",
    "            -β * i * s/n, \n",
    "            β * i * s/n, \n",
    "        ]\n",
    "    \n",
    "    t = np.linspace(0,dias,int(N*dias))\n",
    "    s_i_t = integrate.odeint(sir_deriv, (S_i, I_i), t)\n",
    "    fig,ax = plt.subplots()\n",
    "    ax.stackplot(t, s_i_t[:,1], s_i_t[:,0],\n",
    "                 labels=('Infecciosos', 'Suscetíveis'))\n",
    "    ax.set_xlabel('Dias')\n",
    "    ax.set_ylabel('Pessoas')\n",
    "    ax.set_title(f'Modelo SI')\n",
    "    l = ax.legend()\n",
    "    return t, s_i_t\n",
    "w=interactive(solve_sir, S_i=fixed(210_000_000), I_i=fixed(2200), β=(0.0, 0.5, 0.01), N=fixed(10))\n",
    "w"
   ]
  },
  {
   "cell_type": "markdown",
   "metadata": {},
   "source": [
    "## Modelo SIR\n",
    "O modelo mais usado para modelar epidemias é o SIR. Nele, presume-se que as pessoas podem passar por três estágios: Suscetível, Infeccioso e Resolvido. Por enquanto, esse modelo parece apropriado para essa epidemia, já que a hipótese de uma reinfecção parece remota.\n",
    "\n",
    "<p align=\"center\">\n",
    "  <img src=\"sir.png\">\n",
    "</p>\n",
    "\n",
    "### Premissas do modelo SIR\n",
    "\n",
    "Vamos usar as letras $S$ para suscetível, $I$ para infeccioso e $R$ para Resolvido e $N$ para a população inicial total, ou seja, a soma $S+I+R$. O modelo presume que cada população começa com um determinado valor e tenta prever a evolução futura delas. Para isso, ele define as taxas de variação de cada uma das funções. O número de suscetíveis que se torna infectado é dado por $\\beta I\\frac{S}{N}$, onde $\\beta$ é quantos novos casos por dia são causados por cada infectado, em média; $S/N$ é a fração de suscetíveis sobre a população total. Já a mudança nas resoluções (curas ou mortes) é dado por $I/\\mu$, onde $\\mu$ é a média de dias até a resolução. Assim, temos:\n",
    "\n",
    "$$\n",
    "\\begin{align}\n",
    "  S'(t) & = -\\beta I\\frac{S}{N}\\\\\n",
    "  I'(t) & = \\beta I\\frac{S}{N} - \\frac{I}{\\mu}\\\\\n",
    "  R'(t) & = \\frac{I}{\\mu}\n",
    "\\end{align}\n",
    "$$\n",
    "\n",
    "Uma medida que foi bastante falada na mídia desde o início dessa pandemia é o _número básico de reprodução_, normalmente denotado por $R_0$ (sem relação com o $R$ acima). Nesse modelo, o número é dado por $\\beta\\mu$, ou seja, o número médio de novas infecções a cada dia por infectado, multiplicado pelo número médio de dias de infecção."
   ]
  },
  {
   "cell_type": "code",
   "execution_count": 3,
   "metadata": {},
   "outputs": [
    {
     "data": {
      "application/vnd.jupyter.widget-view+json": {
       "model_id": "fd584946642c4341a4fbfb77eef7eea0",
       "version_major": 2,
       "version_minor": 0
      },
      "text/plain": [
       "interactive(children=(FloatSlider(value=0.16, description='β', max=0.5, step=0.01), IntSlider(value=14, descri…"
      ]
     },
     "metadata": {},
     "output_type": "display_data"
    }
   ],
   "source": [
    "def solve_sir(S_i=210_000_000., I_i=2200., R_i=100., β=0.16, μ=14, dias=365, N=24):\n",
    "    \"\"\"Plot a solution to the SIR differential equations.\"\"\"\n",
    "    \n",
    "    def sir_deriv(s_i_r, t0, β=β, μ=μ):\n",
    "        \"\"\"Compute the time-derivative of a SIR system.\"\"\"\n",
    "        s, i, r = s_i_r\n",
    "        n = s + i + r\n",
    "        return [\n",
    "            -β * i * s/n, \n",
    "            β * i * s/n - i/μ, \n",
    "            i/μ\n",
    "        ]\n",
    "    \n",
    "    t = np.linspace(0,dias,int(N*dias))\n",
    "    s_i_r_t = integrate.odeint(sir_deriv, (S_i, I_i, R_i), t)\n",
    "    fig,ax = plt.subplots()\n",
    "    ax.stackplot(t, s_i_r_t[:,1], s_i_r_t[:,0], s_i_r_t[:,2],\n",
    "                 labels=('Infecciosos', 'Suscetíveis', 'Resolvidos'))\n",
    "    ax.set_xlabel('Dias')\n",
    "    ax.set_ylabel('Pessoas')\n",
    "    ax.set_title(f'Modelo SIR, R₀={β*μ:.3}')\n",
    "    l = ax.legend()\n",
    "    demanda_uti = int(max(s_i_r_t[:,1])*.01)\n",
    "    print(f'Máximo de casos graves simultâneos: {demanda_uti:,}')\n",
    "    resolvidos = s_i_r_t[-1][-1]\n",
    "    mortes_estimadas = int(resolvidos * .005)\n",
    "    print(f'Mortes estimadas indepedente de UTI: {mortes_estimadas:,}')\n",
    "    print(f'Pessoas ainda suscetíveis ao final: {int(s_i_r_t[-1][0]):,}')\n",
    "    return t, s_i_r_t\n",
    "\n",
    "w=interactive(solve_sir, S_i=fixed(210_000_000), I_i=fixed(2200), R_i=fixed(100), \n",
    "              β=(0.0, 0.5, 0.01), mu=(1,30), N=fixed(10))\n",
    "w"
   ]
  },
  {
   "cell_type": "markdown",
   "metadata": {},
   "source": [
    "## Modelo SIRGM\n",
    "\n",
    "Modelo novo\n",
    "<p align=\"center\">\n",
    "  <img src=\"sirgm_letras.png\">\n",
    "</p>\n",
    "\n",
    "$$\n",
    "\\begin{align}\n",
    "  S'(t) & = -\\beta I\\frac{S}{N}\\\\\n",
    "  I'(t) & = \\beta I\\frac{S}{N} - \\frac{I}{\\mu} - \\gamma I\\\\\n",
    "  R'(t) & = \\frac{I}{\\mu} + \\sigma G\\\\\n",
    "  G'(t) & = \\gamma I - \\sigma G - \\theta G\\\\\n",
    "  M'(t) & = \\theta G\n",
    "\\end{align}\n",
    "$$\n"
   ]
  },
  {
   "cell_type": "code",
   "execution_count": 4,
   "metadata": {},
   "outputs": [
    {
     "data": {
      "application/vnd.jupyter.widget-view+json": {
       "model_id": "70a8fb6c5cb04ddf991786f52a5f27b0",
       "version_major": 2,
       "version_minor": 0
      },
      "text/plain": [
       "interactive(children=(FloatSlider(value=0.16, description='beta', max=0.5, step=0.01), IntSlider(value=14, des…"
      ]
     },
     "metadata": {},
     "output_type": "display_data"
    }
   ],
   "source": [
    "from ipywidgets import interactive, fixed\n",
    "from sirgm import solve_sirgm\n",
    "m=interactive(solve_sirgm, \n",
    "              S_i=fixed(2.1e8), I_i=fixed(3000), R_i=fixed(100), G_i=fixed(0), M_i=fixed(0),\n",
    "              gamma=(0,0.1,0.001), sigma=(0,0.1,0.001), theta=(0,0.1,0.001), beta=(0.0, 0.5, 0.01), mu=(1,30),\n",
    "              dias=(1,1095,1), N=fixed(10))\n",
    "m"
   ]
  },
  {
   "cell_type": "markdown",
   "metadata": {},
   "source": [
    "## Falta de UTI\n",
    "\n",
    "Mesmo modelo que o anterior, mas agora tem um número limitado de lugares na UTI (ou ventiladores mecânicos). Quando o número de pacientes graves chega à capacidade de atendimento, todos os casos graves se convertem em mortes.\n",
    "\n",
    "$$\n",
    "\\begin{align}\n",
    "  S'(t) & = -\\beta I\\frac{S}{N}\\\\\n",
    "  I'(t) & = \\beta I\\frac{S}{N} - \\frac{I}{\\mu} - \\gamma I\\\\\n",
    "  R'(t) & = \\frac{I}{\\mu} + \\sigma G\\\\\n",
    "  G'(t) & = \\gamma I - \\sigma G - \\theta G\\\\\n",
    "  M'(t) & = \\theta G\n",
    "\\end{align}\n",
    "$$\n"
   ]
  },
  {
   "cell_type": "markdown",
   "metadata": {},
   "source": [
    "## Simulações\n",
    "\n",
    "#TODO enquanto isso, assista esse vídeo aqui: https://www.youtube.com/watch?v=gxAaO2rsdIs"
   ]
  }
 ],
 "metadata": {
  "kernelspec": {
   "display_name": "Python 3",
   "language": "python",
   "name": "python3"
  },
  "language_info": {
   "codemirror_mode": {
    "name": "ipython",
    "version": 3
   },
   "file_extension": ".py",
   "mimetype": "text/x-python",
   "name": "python",
   "nbconvert_exporter": "python",
   "pygments_lexer": "ipython3",
   "version": "3.8.2"
  }
 },
 "nbformat": 4,
 "nbformat_minor": 4
}
